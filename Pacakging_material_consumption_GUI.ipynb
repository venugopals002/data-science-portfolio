{
  "nbformat": 4,
  "nbformat_minor": 0,
  "metadata": {
    "colab": {
      "provenance": [],
      "authorship_tag": "ABX9TyPRhTDI6UQ63DLzpK+HLo+x",
      "include_colab_link": true
    },
    "kernelspec": {
      "name": "python3",
      "display_name": "Python 3"
    },
    "language_info": {
      "name": "python"
    }
  },
  "cells": [
    {
      "cell_type": "markdown",
      "metadata": {
        "id": "view-in-github",
        "colab_type": "text"
      },
      "source": [
        "<a href=\"https://colab.research.google.com/github/venugopals002/data-science-portfolio/blob/master/Pacakging_material_consumption_GUI.ipynb\" target=\"_parent\"><img src=\"https://colab.research.google.com/assets/colab-badge.svg\" alt=\"Open In Colab\"/></a>"
      ]
    },
    {
      "cell_type": "code",
      "execution_count": 79,
      "metadata": {
        "id": "1749OSoXaopR"
      },
      "outputs": [],
      "source": [
        "import pandas as pd\n",
        "import numpy as np\n",
        "import matplotlib.pyplot as plt\n",
        "import seaborn as sns\n",
        "import math"
      ]
    },
    {
      "cell_type": "code",
      "source": [
        "df = pd.read_excel('/content/import file.xlsx')"
      ],
      "metadata": {
        "id": "qyeW-6MHa90Z"
      },
      "execution_count": 80,
      "outputs": []
    },
    {
      "cell_type": "code",
      "source": [
        "df.describe()"
      ],
      "metadata": {
        "id": "t79YM-81bFc-"
      },
      "execution_count": null,
      "outputs": []
    },
    {
      "cell_type": "code",
      "source": [
        "df['Coil_OD'] = (np.sqrt(((df['BATCH WT']*1000)/(0.00000785*math.pi*df['FG WIDTH'])*4)+(df['COIL INNER DIAMETER'])**2))*1.0052"
      ],
      "metadata": {
        "id": "Ivw-PHSNbH9d"
      },
      "execution_count": 82,
      "outputs": []
    },
    {
      "cell_type": "code",
      "source": [
        "df.describe()"
      ],
      "metadata": {
        "id": "_1slgf85hFz8"
      },
      "execution_count": null,
      "outputs": []
    },
    {
      "cell_type": "code",
      "source": [
        "df.head()\n"
      ],
      "metadata": {
        "id": "dwdd4Ye8hcTx"
      },
      "execution_count": null,
      "outputs": []
    },
    {
      "cell_type": "code",
      "source": [
        "df['VCI_theory_Width'] = df['FG WIDTH']+(df['Coil_OD']-df['COIL INNER DIAMETER'])+200"
      ],
      "metadata": {
        "id": "9-4M2HyZhvyG"
      },
      "execution_count": 85,
      "outputs": []
    },
    {
      "cell_type": "code",
      "source": [
        "df.round().head()"
      ],
      "metadata": {
        "id": "S7YiUyiFm8sg"
      },
      "execution_count": null,
      "outputs": []
    },
    {
      "cell_type": "code",
      "source": [
        "# df['VCI_actual_width'] = "
      ],
      "metadata": {
        "id": "J6DSbl48nFX2"
      },
      "execution_count": 87,
      "outputs": []
    },
    {
      "cell_type": "code",
      "source": [
        "# function for caculating VCI actual Width\n",
        "def VCI_actual_width(df):\n",
        "  if df['VCI_theory_Width'] >= 0 and df['VCI_theory_Width'] <=1830:\n",
        "    return 1830\n",
        "  elif df['VCI_theory_Width'] > 1830 and df['VCI_theory_Width'] <=2130:\n",
        "    return 2130\n",
        "  elif df['VCI_theory_Width'] > 2130 and df['VCI_theory_Width'] <=2740:\n",
        "    return 2740\n",
        "  else:\n",
        "    return 2741\n",
        "df['VCI_actual_width'] = df.apply(VCI_actual_width, axis=1)"
      ],
      "metadata": {
        "id": "UI1lLTdUHCKa"
      },
      "execution_count": 88,
      "outputs": []
    },
    {
      "cell_type": "code",
      "source": [
        "df.describe()"
      ],
      "metadata": {
        "id": "rzhoPgsipTSz"
      },
      "execution_count": null,
      "outputs": []
    },
    {
      "cell_type": "code",
      "source": [
        "df['VCI_top_cover'] = (df['VCI_actual_width']*(df['Coil_OD']*math.pi+150))/1000000"
      ],
      "metadata": {
        "id": "Jl3Rk4XRpvn7"
      },
      "execution_count": 90,
      "outputs": []
    },
    {
      "cell_type": "code",
      "source": [
        "df.head()"
      ],
      "metadata": {
        "id": "VtHc5NKsufJm"
      },
      "execution_count": null,
      "outputs": []
    },
    {
      "cell_type": "code",
      "source": [
        "df['LDPE_top_cover'] = (df['VCI_actual_width']*(df['Coil_OD']*math.pi+150))/1000000"
      ],
      "metadata": {
        "id": "TKy1hznouh2n"
      },
      "execution_count": 92,
      "outputs": []
    },
    {
      "cell_type": "code",
      "source": [
        "df.round().describe()"
      ],
      "metadata": {
        "id": "2jhEWPi5uugy"
      },
      "execution_count": null,
      "outputs": []
    },
    {
      "cell_type": "code",
      "source": [
        "df['Angle_Board_OD'] = ((df['Coil_OD']*math.pi+150)*2)/1000"
      ],
      "metadata": {
        "id": "bRw683UXuxL-"
      },
      "execution_count": 94,
      "outputs": []
    },
    {
      "cell_type": "code",
      "source": [
        "# function for calculating angle board ID consumption\n",
        "def Angle_Board_ID(df):\n",
        "  if df['COIL INNER DIAMETER'] == 508:\n",
        "    return (1550 * 2)/1000\n",
        "  elif df['COIL INNER DIAMETER'] == 610:\n",
        "    return (1850*2)/1000\n",
        "\n",
        "df['Angle_Board_ID'] = df.apply(Angle_Board_ID, axis=1)"
      ],
      "metadata": {
        "id": "IySfKJP2wYic"
      },
      "execution_count": 95,
      "outputs": []
    },
    {
      "cell_type": "code",
      "source": [
        "df.head()"
      ],
      "metadata": {
        "id": "4T9es7iLy43O"
      },
      "execution_count": null,
      "outputs": []
    },
    {
      "cell_type": "code",
      "source": [
        "df['BOPP_tape'] = (((1+1+6+32)*200)/1000)/65"
      ],
      "metadata": {
        "id": "FvpPi-EUzCcF"
      },
      "execution_count": 97,
      "outputs": []
    },
    {
      "cell_type": "code",
      "source": [
        "df['5\"_HDPE_tape'] = ((df['VCI_actual_width']+((df['COIL INNER DIAMETER']*3.14+150)*2)+df['FG WIDTH']+((df['Coil_OD']*3.14+150)*2)+((df['COIL INNER DIAMETER']*3.14+150)*2))/1000)/50\n",
        "# F2 = ID, G2=OD, i2 = VCI actual Width, C2 = coil width "
      ],
      "metadata": {
        "id": "e9T7A2F10CZy"
      },
      "execution_count": 98,
      "outputs": []
    },
    {
      "cell_type": "code",
      "source": [
        "df.head()"
      ],
      "metadata": {
        "id": "CA4U0EZg2Tsh"
      },
      "execution_count": null,
      "outputs": []
    },
    {
      "cell_type": "code",
      "source": [
        "# Function for Calculating VCI Inner Sleeve\n",
        "def VCI_Inner_Cons(df):\n",
        "  if df['COIL INNER DIAMETER'] == 508:\n",
        "    return 2.08\n",
        "  else:\n",
        "    return 2.31\n",
        "\n",
        "df['VCI_Inner'] = df.apply(VCI_Inner_Cons, axis=1)"
      ],
      "metadata": {
        "id": "fNMaz6Bu2hiY"
      },
      "execution_count": 100,
      "outputs": []
    },
    {
      "cell_type": "code",
      "source": [
        "df['Filament_tape'] = (((6*200)+(df['FG WIDTH']*2)+(6*200)+df['FG WIDTH'])/1000)/50\n",
        "# C2 = Width"
      ],
      "metadata": {
        "id": "7nsGQrYW3w48"
      },
      "execution_count": 101,
      "outputs": []
    },
    {
      "cell_type": "code",
      "source": [
        "# Function for calculating Metwrapp side Disk Size\n",
        "# ((IF(AND(Coil_OD <1250),\"1250\",IF(AND(Coil_OD>1250,G2<1550),\"1550\",IF(AND(Coil_OD>1550),\"1850\")))))\n",
        "def Metwrapp_SD_Size(df):\n",
        "  if df['Coil_OD'] <= 1250:\n",
        "    return 1250\n",
        "  elif df['Coil_OD'] > 1250 and df['Coil_OD'] < 1550:\n",
        "    return 1550\n",
        "  else:\n",
        "    return 1850\n",
        "\n",
        "df['Metwrapp_Side_Disk_size'] = df.apply(Metwrapp_SD_Size, axis=1)"
      ],
      "metadata": {
        "id": "doUuGtFj4JvL"
      },
      "execution_count": 102,
      "outputs": []
    },
    {
      "cell_type": "code",
      "source": [
        "df.head()"
      ],
      "metadata": {
        "id": "fMb83tcT6e11"
      },
      "execution_count": null,
      "outputs": []
    },
    {
      "cell_type": "code",
      "source": [
        "# (((IF(AND(G2<1250),\"1250\",IF(AND(G2>1250,G2<1550),\"1550\",IF(AND(G2>1550),\"1850\")))))*2)/1000\n",
        "# G2 = Coil_OD\n",
        "\n",
        "# Function for calculating Metwrapp side Disk Consumption\n",
        "def Metwrapp_SD_Consumption(df):\n",
        "  if df['Coil_OD'] <= 1250:\n",
        "    return (1250*2)/1000\n",
        "  elif df['Coil_OD'] > 1250 and df['Coil_OD'] < 1550:\n",
        "    return (1550*2)/1000\n",
        "  else:\n",
        "    return (1850*2)/1000\n",
        "\n",
        "df['Metwrapp_side_Disk_Consumption'] = df.apply(Metwrapp_SD_Consumption, axis=1)"
      ],
      "metadata": {
        "id": "CpGOvtKo6jkL"
      },
      "execution_count": 104,
      "outputs": []
    },
    {
      "cell_type": "code",
      "source": [
        "# =(1220*(F2*3.14+150))/1000000\n",
        "# F2 = Coil ID\n",
        "\n",
        "df['Fluteboard_Consumption'] = (1220*(df['COIL INNER DIAMETER']*3.14+150))/1000000"
      ],
      "metadata": {
        "id": "latt1mmR6iP4"
      },
      "execution_count": 105,
      "outputs": []
    },
    {
      "cell_type": "code",
      "source": [
        "# =3*((G2*3.14+150)*0.64*32*0.00000785)\n",
        "# G2 = Coil OD\n",
        "\n",
        "df['Cir_Steel_Strap_Consumption'] = 3*((df['Coil_OD']*3.14+150)*0.64*32*0.00000785)"
      ],
      "metadata": {
        "id": "ADQCL2_MVJrz"
      },
      "execution_count": 106,
      "outputs": []
    },
    {
      "cell_type": "code",
      "source": [
        "# Function for Calculating Eye Strap Consumption\n",
        "# =(IF(AND(E2=\"Export Economical\"),\"6\",\"4\"))*((C2*2+(G2-F2)+150)*0.64*32*0.00000785)\n",
        "# E2 = Pack Type, C2 = Coil Width, G2 = Coil OD, F2 = Coil ID\n",
        "def Eye_Strap_Consumption(df):\n",
        "  if df['NEW PACK CONFIGURATION'] == 'Export Economical':\n",
        "    return (6*((df['FG WIDTH']*2+(df['Coil_OD']-df['COIL INNER DIAMETER'])+150)*0.64*32*0.00000785))\n",
        "  else:\n",
        "    return (4*((df['FG WIDTH']*2+(df['Coil_OD']-df['COIL INNER DIAMETER'])+150)*0.64*32*0.00000785))\n",
        "\n",
        "df['Eye_Strap_Consumption'] = df.apply(Eye_Strap_Consumption, axis=1)"
      ],
      "metadata": {
        "id": "YgGWkSA-Vhf6"
      },
      "execution_count": 107,
      "outputs": []
    },
    {
      "cell_type": "code",
      "source": [
        "df['Total_Strap_Consumption'] = df['Cir_Steel_Strap_Consumption']+df['Eye_Strap_Consumption']"
      ],
      "metadata": {
        "id": "PPrrgh3iW3pM"
      },
      "execution_count": 108,
      "outputs": []
    },
    {
      "cell_type": "code",
      "source": [
        "# Function to calculate Seals consumption\n",
        "# =(IF(AND(E2=\"Export Economical\"),\"6\",\"4\"))+3\n",
        "\n",
        "def Seals_Consumption(df):\n",
        "  if df['NEW PACK CONFIGURATION'] == 'Export Economical':\n",
        "    return 6+3\n",
        "  else:\n",
        "    return 4+3\n",
        "\n",
        "df['Seals_Consumption'] = df.apply(Seals_Consumption, axis=1)"
      ],
      "metadata": {
        "id": "Q4YMxi6UXC5f"
      },
      "execution_count": 109,
      "outputs": []
    },
    {
      "cell_type": "code",
      "source": [
        "import time\n",
        "\n",
        "TodaysDate = time.strftime(\"%d-%m-%Y\")\n",
        "Packaging_Material_Consumption = TodaysDate+\".xlsx\"\n",
        "\n",
        "df.to_excel(Packaging_Material_Consumption, sheet_name='sheet1', index=False)"
      ],
      "metadata": {
        "id": "Zg4oHup-YgIJ"
      },
      "execution_count": 111,
      "outputs": []
    },
    {
      "cell_type": "code",
      "source": [
        "VCI_Consumption = df.groupby('VCI_actual_width')['VCI_top_cover'].sum()"
      ],
      "metadata": {
        "id": "jg1TDeWiZiky"
      },
      "execution_count": 113,
      "outputs": []
    },
    {
      "cell_type": "code",
      "source": [
        "VCI_Consumption"
      ],
      "metadata": {
        "id": "dv8HCESQdnjW"
      },
      "execution_count": null,
      "outputs": []
    },
    {
      "cell_type": "code",
      "source": [],
      "metadata": {
        "id": "3AJrS5RPdrIC"
      },
      "execution_count": null,
      "outputs": []
    }
  ]
}